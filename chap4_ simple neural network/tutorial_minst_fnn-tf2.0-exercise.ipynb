{
 "cells": [
  {
   "cell_type": "markdown",
   "metadata": {},
   "source": [
    "## 准备数据"
   ]
  },
  {
   "cell_type": "code",
   "execution_count": 21,
   "metadata": {},
   "outputs": [],
   "source": [
    "import os\n",
    "import numpy as np\n",
    "import tensorflow as tf\n",
    "from tensorflow import keras\n",
    "from tensorflow.keras import layers, optimizers, datasets\n",
    "\n",
    "os.environ['TF_CPP_MIN_LOG_LEVEL'] = '2'  # or any {'0', '1', '2'}\n",
    "\n",
    "def mnist_dataset():\n",
    "    (x, y), (x_test, y_test) = datasets.mnist.load_data()\n",
    "    #normalize\n",
    "    x = x/255.0\n",
    "    x_test = x_test/255.0\n",
    "    \n",
    "    return (x, y), (x_test, y_test)"
   ]
  },
  {
   "cell_type": "code",
   "execution_count": 22,
   "metadata": {},
   "outputs": [
    {
     "name": "stdout",
     "output_type": "stream",
     "text": [
      "[(1, 'a'), (2, 'b'), (3, 'c'), (4, 'd')]\n"
     ]
    }
   ],
   "source": [
    "print(list(zip([1, 2, 3, 4], ['a', 'b', 'c', 'd'])))"
   ]
  },
  {
   "cell_type": "markdown",
   "metadata": {},
   "source": [
    "## 建立模型"
   ]
  },
  {
   "cell_type": "code",
   "execution_count": 23,
   "metadata": {},
   "outputs": [],
   "source": [
    "class myModel:\n",
    "    def __init__(self):\n",
    "        self.W1 = tf.Variable(tf.random.normal([784, 256]), name='W1')\n",
    "        self.b1 = tf.Variable(tf.zeros([256]), name='b1')\n",
    "        self.W2 = tf.Variable(tf.random.normal([256, 128]), name='W2')\n",
    "        self.b2 = tf.Variable(tf.zeros([128]), name='b2')\n",
    "        self.W3 = tf.Variable(tf.random.normal([128, 10]), name='W3')\n",
    "        self.b3 = tf.Variable(tf.zeros([10]), name='b3')\n",
    "\n",
    "    def __call__(self, x):\n",
    "        x = tf.reshape(x, [-1, 784])\n",
    "        h1 = tf.nn.relu(tf.matmul(x, self.W1) + self.b1)\n",
    "        h2 = tf.nn.relu(tf.matmul(h1, self.W2) + self.b2)\n",
    "        logits = tf.matmul(h2, self.W3) + self.b3\n",
    "        return logits\n",
    "\n",
    "        \n",
    "model = myModel()\n",
    "\n",
    "optimizer = optimizers.Adam()"
   ]
  },
  {
   "cell_type": "markdown",
   "metadata": {},
   "source": [
    "## 计算 loss"
   ]
  },
  {
   "cell_type": "code",
   "execution_count": 24,
   "metadata": {},
   "outputs": [],
   "source": [
    "@tf.function\n",
    "def compute_loss(logits, labels):\n",
    "    return tf.reduce_mean(\n",
    "        tf.nn.sparse_softmax_cross_entropy_with_logits(\n",
    "            logits=logits, labels=labels))\n",
    "\n",
    "@tf.function\n",
    "def compute_accuracy(logits, labels):\n",
    "    predictions = tf.argmax(logits, axis=1)\n",
    "    return tf.reduce_mean(tf.cast(tf.equal(predictions, labels), tf.float32))\n",
    "\n",
    "@tf.function\n",
    "def train_one_step(model, optimizer, x, y):\n",
    "    with tf.GradientTape() as tape:\n",
    "        logits = model(x)\n",
    "        loss = compute_loss(logits, y)\n",
    "\n",
    "    # compute gradient\n",
    "    trainable_vars = [model.W1, model.W2, model.b1, model.b2]\n",
    "    grads = tape.gradient(loss, trainable_vars)\n",
    "    for g, v in zip(grads, trainable_vars):\n",
    "        v.assign_sub(0.01*g)\n",
    "\n",
    "    accuracy = compute_accuracy(logits, y)\n",
    "\n",
    "    # loss and accuracy is scalar tensor\n",
    "    return loss, accuracy\n",
    "\n",
    "@tf.function\n",
    "def test(model, x, y):\n",
    "    logits = model(x)\n",
    "    loss = compute_loss(logits, y)\n",
    "    accuracy = compute_accuracy(logits, y)\n",
    "    return loss, accuracy"
   ]
  },
  {
   "cell_type": "markdown",
   "metadata": {},
   "source": [
    "## 实际训练"
   ]
  },
  {
   "cell_type": "code",
   "execution_count": 25,
   "metadata": {},
   "outputs": [
    {
     "name": "stdout",
     "output_type": "stream",
     "text": [
      "epoch 0 : loss 1368.1594 ; accuracy 0.1296\n",
      "epoch 1 : loss 845.3566 ; accuracy 0.14875\n",
      "epoch 2 : loss 551.2587 ; accuracy 0.20253333\n",
      "epoch 3 : loss 433.83875 ; accuracy 0.25523335\n",
      "epoch 4 : loss 362.97046 ; accuracy 0.29075\n",
      "epoch 5 : loss 310.92532 ; accuracy 0.32076666\n",
      "epoch 6 : loss 273.21753 ; accuracy 0.35651666\n",
      "epoch 7 : loss 246.18806 ; accuracy 0.3862\n",
      "epoch 8 : loss 225.52943 ; accuracy 0.41221666\n",
      "epoch 9 : loss 208.96904 ; accuracy 0.43476668\n",
      "epoch 10 : loss 195.12933 ; accuracy 0.45425\n",
      "epoch 11 : loss 183.306 ; accuracy 0.47151667\n",
      "epoch 12 : loss 173.07709 ; accuracy 0.48831666\n",
      "epoch 13 : loss 164.1472 ; accuracy 0.5031833\n",
      "epoch 14 : loss 156.246 ; accuracy 0.5171\n",
      "epoch 15 : loss 149.22844 ; accuracy 0.5291833\n",
      "epoch 16 : loss 142.93399 ; accuracy 0.5412167\n",
      "epoch 17 : loss 137.28781 ; accuracy 0.5531\n",
      "epoch 18 : loss 132.20041 ; accuracy 0.563\n",
      "epoch 19 : loss 127.57341 ; accuracy 0.57243335\n",
      "epoch 20 : loss 123.34308 ; accuracy 0.5815833\n",
      "epoch 21 : loss 119.466965 ; accuracy 0.5893667\n",
      "epoch 22 : loss 115.903336 ; accuracy 0.5970167\n",
      "epoch 23 : loss 112.62295 ; accuracy 0.6049333\n",
      "epoch 24 : loss 109.60578 ; accuracy 0.6117\n",
      "epoch 25 : loss 106.80493 ; accuracy 0.61806667\n",
      "epoch 26 : loss 104.19955 ; accuracy 0.62383336\n",
      "epoch 27 : loss 101.764565 ; accuracy 0.6293167\n",
      "epoch 28 : loss 99.47881 ; accuracy 0.63486665\n",
      "epoch 29 : loss 97.33393 ; accuracy 0.64061666\n",
      "epoch 30 : loss 95.31903 ; accuracy 0.64561665\n",
      "epoch 31 : loss 93.418465 ; accuracy 0.6505\n",
      "epoch 32 : loss 91.62405 ; accuracy 0.6551\n",
      "epoch 33 : loss 89.925575 ; accuracy 0.6595167\n",
      "epoch 34 : loss 88.31635 ; accuracy 0.6635\n",
      "epoch 35 : loss 86.78689 ; accuracy 0.6673667\n",
      "epoch 36 : loss 85.3295 ; accuracy 0.67116666\n",
      "epoch 37 : loss 83.939766 ; accuracy 0.67436665\n",
      "epoch 38 : loss 82.604294 ; accuracy 0.6778833\n",
      "epoch 39 : loss 81.326256 ; accuracy 0.68155\n",
      "epoch 40 : loss 80.10595 ; accuracy 0.68475\n",
      "epoch 41 : loss 78.93379 ; accuracy 0.68773335\n",
      "epoch 42 : loss 77.81054 ; accuracy 0.6907667\n",
      "epoch 43 : loss 76.73501 ; accuracy 0.6939333\n",
      "epoch 44 : loss 75.70334 ; accuracy 0.6965167\n",
      "epoch 45 : loss 74.70551 ; accuracy 0.6989167\n",
      "epoch 46 : loss 73.74403 ; accuracy 0.7012333\n",
      "epoch 47 : loss 72.81388 ; accuracy 0.7038\n",
      "epoch 48 : loss 71.9179 ; accuracy 0.7064667\n",
      "epoch 49 : loss 71.053215 ; accuracy 0.70886666\n",
      "test loss 67.60916 ; accuracy 0.7166\n"
     ]
    }
   ],
   "source": [
    "train_data, test_data = mnist_dataset()\n",
    "for epoch in range(50):\n",
    "    loss, accuracy = train_one_step(model, optimizer, \n",
    "                                    tf.constant(train_data[0], dtype=tf.float32), \n",
    "                                    tf.constant(train_data[1], dtype=tf.int64))\n",
    "    print('epoch', epoch, ': loss', loss.numpy(), '; accuracy', accuracy.numpy())\n",
    "loss, accuracy = test(model, \n",
    "                      tf.constant(test_data[0], dtype=tf.float32), \n",
    "                      tf.constant(test_data[1], dtype=tf.int64))\n",
    "\n",
    "print('test loss', loss.numpy(), '; accuracy', accuracy.numpy())"
   ]
  }
 ],
 "metadata": {
  "kernelspec": {
   "display_name": "tensorflow",
   "language": "python",
   "name": "python3"
  },
  "language_info": {
   "codemirror_mode": {
    "name": "ipython",
    "version": 3
   },
   "file_extension": ".py",
   "mimetype": "text/x-python",
   "name": "python",
   "nbconvert_exporter": "python",
   "pygments_lexer": "ipython3",
   "version": "3.9.18"
  }
 },
 "nbformat": 4,
 "nbformat_minor": 2
}
